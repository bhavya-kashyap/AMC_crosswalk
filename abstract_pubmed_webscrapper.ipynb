{
  "cells": [
    {
      "cell_type": "markdown",
      "metadata": {
        "id": "view-in-github",
        "colab_type": "text"
      },
      "source": [
        "<a href=\"https://colab.research.google.com/github/bhavya-kashyap/AMC_crosswalk/blob/main/abstract_pubmed_webscrapper.ipynb\" target=\"_parent\"><img src=\"https://colab.research.google.com/assets/colab-badge.svg\" alt=\"Open In Colab\"/></a>"
      ]
    },
    {
      "cell_type": "code",
      "source": [
        "!apt update\n",
        "!apt install chromium-chromedriver\n",
        "# !pip install selenium\n",
        "# !pip install bs4\n",
        "!pip install pymed"
      ],
      "metadata": {
        "id": "XoBK_wpnJQJB"
      },
      "id": "XoBK_wpnJQJB",
      "execution_count": null,
      "outputs": []
    },
    {
      "cell_type": "code",
      "execution_count": 45,
      "id": "11409abe",
      "metadata": {
        "id": "11409abe"
      },
      "outputs": [],
      "source": [
        "import pandas as pd\n",
        "import numpy as np\n",
        "from pymed import PubMed\n",
        "# from selenium import webdriver\n",
        "# from selenium.webdriver.chrome.options import Options\n",
        "# from selenium.webdriver.common.by import By\n",
        "# from bs4 import BeautifulSoup\n",
        "import time\n",
        "import math\n",
        "from google.colab import files"
      ]
    },
    {
      "cell_type": "code",
      "execution_count": null,
      "id": "eee408f2",
      "metadata": {
        "id": "eee408f2"
      },
      "outputs": [],
      "source": [
        "# def driversetup():\n",
        "#       options = webdriver.ChromeOptions()\n",
        "#       #run Selenium in headless mode\n",
        "#       options.add_argument('--headless')\n",
        "#       options.add_argument('--no-sandbox')\n",
        "#       options.add_argument(\"enable-automation\")\n",
        "#       #overcome limited resource problems\n",
        "#       options.add_argument('--disable-dev-shm-usage')\n",
        "#       options.add_argument(\"lang=en\")\n",
        "#       #open Browser in maximized mode\n",
        "#       options.add_argument(\"start-maximized\")\n",
        "#       #disable infobars\n",
        "#       options.add_argument(\"disable-infobars\")\n",
        "#       #disable extension\n",
        "#       options.add_argument(\"--disable-browser-side-navigation\")\n",
        "#       options.add_argument(\"--disable-gpu\")\n",
        "#       options.add_argument(\"--disable-extensions\")\n",
        "#       options.add_argument(\"--incognito\")\n",
        "#       options.add_argument(\"--disable-blink-features=AutomationControlled\")\n",
        "#       driver = webdriver.Chrome(options=options)\n",
        "#       driver.execute_script(\"Object.defineProperty(navigator, 'webdriver', {get: () => undefined});\")\n",
        "#       return driver\n",
        "\n",
        "# def pagesource(url, driver):\n",
        "#       driver = driver\n",
        "#       driver.get(url)\n",
        "#       time.sleep(5)\n",
        "#       soup = BeautifulSoup(driver.page_source)\n",
        "#       return soup\n",
        "\n",
        "# d = driversetup()\n",
        "# abstracts = []\n",
        "# for i in range(len(df)):\n",
        "#   s = pagesource(df.loc[i]['URL'], d)\n",
        "#   abstract = list(s.findAll('div', class_=\"abstract-content selected\"))\n",
        "#   a = ''\n",
        "#   for j in range(len(abstract)):\n",
        "#     a = a + ' ' + abstract[j].text\n",
        "#   abstracts.append(a)\n",
        "#   print(i, a)\n",
        "\n",
        "# df[\"PubMedAbstracts\"] = abstracts\n",
        "\n",
        "# df.to_csv('GeorgiaPubmedAbstracts.csv', index=False)\n",
        "# files.download(\"GeorgiaPubmedAbstracts.csv\")\n",
        "# abs = pd.DataFrame({'Abstracts' : abstracts})\n",
        "# abs.to_csv('GeorgiaAbstracts.csv')\n",
        "# files.download(\"GeorgiaAbstracts.csv\")"
      ]
    },
    {
      "cell_type": "code",
      "source": [
        "# Previous list of univeristies parsed:\n",
        "# Georgia Universities\n",
        "# uni = ['Emory University', 'Morehouse School of Medicine', 'Mercer University', 'Augusta University', 'Pacific Northwest University of Health Sciences College of Osteopathic Medicine']\n",
        "# Alabama Universities\n",
        "# uni = ['University of Alabama', 'University of South Alabama', 'Alabama College of Osteopathic Medicine', 'William Carey University College of Osteopathic Med', 'Edward Via College of Osteopathic Medicine', ]\n",
        "# Alaska Universities\n",
        "# uni = ['University of Alaska Anchorage', 'Alaska Pacific University', 'University of Alaska Fairbanks', 'University of Alaska Southeast', 'Ilisagvik College']\n",
        "# Arizona universities\n",
        "# uni = ['University of Arizona', 'Mayo Clinic Alix School of Medicine']\n",
        "# Arkansas universities\n",
        "# uni = ['University of Arkansas', 'Arkansas College of Osteopathic Medicine', 'New York Institute of Technology College of Osteopathic Medicine at Arkansas State University', '']\n",
        "# California universities\n",
        "# uni = ['Stanford', 'University of California', 'University of South California', 'Touro University of California', 'Western University of Health Sciences', \n",
        "#         'California Health Sciences University College of Osteopathic Medicine', 'California Northstate University', 'California University of Science and Medicine',\n",
        "#        'Kaiser Permanente School of Medicine', 'Loma Linda University', 'Charles Drew', 'UCLA']\n",
        "# Colorado Universities\n",
        "# uni = ['University of Colorado', 'Rocky Vista University College of Osteopathic Medicine']\n",
        "# Connecticut universities\n",
        "# uni = ['Frank H. Netter MD School of Medicine at Quinnipiac University', 'University of Connecticut School of Medicine', 'Yale School of Medicine']\n",
        "# Delaware universities\n",
        "# uni = ['University of Delaware', 'Wilmington University', 'Delaware State University', 'Goldey Beacom College', 'Delaware Technical Community College Terry', 'Wesley College']\n",
        "# District of Colombia universities\n",
        "# uni = ['George Washington University School of Medicine and Health Sciences', 'Georgetown University School of Medicine', 'Howard University College of Medicine']\n",
        "# Florida universities\n",
        "# uni = ['University of Florida', 'University of Miami (Miller)', 'USF Morsani College of Medicine', 'University of Central Florida',\n",
        "#        'Florida Atlantic University (Schmidt)', 'Florida State University', 'Florida International University Herbert Wertheim College of Medicine',\n",
        "#        'Nova Southeastern University Dr. Kiran C. Patel Allopathic College of Medicine']\n",
        "# Hawaii universities\n",
        "# uni = ['University of Hawaii']\n",
        "# Idaho universities\n",
        "# uni = ['Idaho College of Osteopathic Medicine']\n",
        "# Illinois universities\n",
        "# uni = ['Carle Illinois College of Medicine', 'Chicago Medical School at Rosalind Franklin University of Medicine & Science', 'Loyola University Chicago Stritch School of Medicine',\n",
        "#        'Northwestern University The Feinberg School of Medicine', 'Rush Medical College of Rush University Medical Center', 'Southern Illinois University School of Medicine',\n",
        "#        'University of Chicago Division of the Biological Sciences The Pritzker School of Medicine', 'University of Illinois College of Medicine']\n",
        "# Indiana universities\n",
        "# uni = ['Indiana University School of Medicine', 'Marian University College of Osteopathic Medicine']\n",
        "# Iowa universities\n",
        "# uni = ['University of Iowa']\n",
        "# Kansas universities\n",
        "# uni = ['University of Kansas School of Medicine']\n",
        "# Kentucky universities\n",
        "# uni = ['University of Kentucky College of Medicine', 'University of Louisville School of Medicine', 'University of Pikeville Kentucky College of Osteopathic Medicine']\n",
        "# Louisiana university\n",
        "# uni = ['Louisiana State University School of Medicine', 'Louisiana State University School of Medicine', 'Tulane University School of Medicine']\n",
        "# Maine universities\n",
        "# uni = ['University of New England College of Osteopathic Medicine']\n",
        "# Maryland universities\n",
        "# uni = ['Johns Hopkins University School of Medicine', 'Uniformed Services University of the Health Sciences F. Edward Hebert School of Medicine', 'University of Maryland School of Medicine']\n",
        "# Massachusettes universities\n",
        "# uni = ['Boston University School of Medicine', 'Harvard Medical School', 'Tufts University School of Medicine', 'University of Massachusetts Medical School (Worcester)']\n",
        "# Michigan universities\n",
        "# uni = ['Central Michigan University College of Medicine', 'Michigan State University College of Human Medicine', 'Oakland University William Beaumont School of Medicine',\n",
        "#        'University of Michigan Medical School', 'Wayne State University School of Medicine', 'Western Michigan University Homer Stryker M.D. School of Medicine']\n",
        "# Minessota universities\n",
        "# uni = ['Mayo Clinic Alix School of Medicine', 'University of Minnesota Medical School', 'University of Minnesota Medical School']\n",
        "# Mississippi universities\n",
        "# uni = ['University of Mississippi School of Medicine', 'William Carey University College of Osteopathic Medicine']\n",
        "# Missouri universities\n",
        "# uni = ['Saint Louis University School of Medicine', 'University of Missouri', 'Washington University School of Medicine', 'A.T. Still University Kirksville College of Osteopathic Medicine', \n",
        "#        'Kansas City University of Medicine and Biosciences College of Osteopathic Medicine']\n"
      ],
      "metadata": {
        "id": "JUU5wYZbJ3Pr"
      },
      "id": "JUU5wYZbJ3Pr",
      "execution_count": null,
      "outputs": []
    },
    {
      "cell_type": "code",
      "source": [],
      "metadata": {
        "id": "KqxFsin_d5kC"
      },
      "id": "KqxFsin_d5kC",
      "execution_count": 45,
      "outputs": []
    },
    {
      "cell_type": "code",
      "source": [
        "# Pymed\n",
        "pubmed = PubMed(tool=\"MyTool\", email=\"bkkashyapbhavya97@gmail.com\")\n",
        "\n",
        "# import the US AMC University List data\n",
        "u1 = pd.read_excel('US AMC University List.xlsx', sheet_name='Full University List')\n",
        "u2 = pd.read_excel('US AMC University List.xlsx', sheet_name='AL-MO')\n",
        "u3 = pd.read_excel('US AMC University List.xlsx', sheet_name='NE-WA')\n",
        "u4 = pd.read_excel('US AMC University List.xlsx', sheet_name='NY-NC-PA-TN-TX')\n",
        "u = pd.concat([u1, u2, u3, u4], axis=0).dropna().rename(columns = {'Unnamed: 0' : 'Universities'}).drop_duplicates(subset=['Universities']).reset_index()\n",
        "\n",
        "# Date attributes in query\n",
        "date = '(\"2000/01/01\"[Date - Publication] : \"2014/12/31\"[Date - Publication])'\n",
        "journals = pd.read_csv('journals.csv')\n",
        "\n",
        "# initialize a dataframe : \n",
        "art = pd.DataFrame()\n",
        "\n",
        "# query and fetch data for each journal out of the selected 145 journals\n",
        "k = 0\n",
        "while k < len(u):\n",
        "  temp = pd.DataFrame() \n",
        "  print(k, u.Universities[k].upper())\n",
        "  y = 0\n",
        "  \n",
        "  while y < 141:\n",
        "    # for c in range(y,y+5):\n",
        "    journal_query = '('\n",
        "    journal_query += '(' + str(journals.Title[y]).upper() + '[JOURNAL])' + ' OR ' + '(' + str(journals.Title[y+1]).upper() + '[JOURNAL])' + ' OR ' + '(' + str(journals.Title[y+2]).upper() + '[JOURNAL])' + ' OR ' + '(' + str(journals.Title[y+3]).upper() + '[JOURNAL])' + ' OR ' + '(' + str(journals.Title[y+4]).upper() + '[JOURNAL])' + ' OR '\n",
        "    query = journal_query[:-4] +') AND ' + date + ' AND ('+ u.Universities[k].upper() + '[AFFILIATION])'\n",
        "    print(y, query)\n",
        "    # no more than 3 requests in a second\n",
        "    time.sleep(0.5)\n",
        "    results = list(pubmed.query(query, max_results=50000))\n",
        "    \n",
        "    # article_dict = {}\n",
        "    article_dict_list = []\n",
        "\n",
        "    # Loop over the retrieved articles\n",
        "    for i, article in enumerate(results):\n",
        "        article_dict = {}\n",
        "        if not article.abstract:\n",
        "            pass \n",
        "        else:\n",
        "            article_dict['Abstract'] = article.abstract\n",
        "            try:\n",
        "                article_dict[\"Conclusions\"]= article.conclusions\n",
        "            except:\n",
        "                article_dict[\"Conclusions\"]= 'None'\n",
        "            article_dict[\"Copyrights\"] = article.copyrights\n",
        "            article_dict[\"DOI\"] = article.doi\n",
        "            try:\n",
        "                article_dict[\"Journal\"] = article.journal\n",
        "            except:\n",
        "                article_dict[\"Journal\"] ='None'\n",
        "            try:\n",
        "                article_dict[\"Methods\"] = article.methods\n",
        "            except:\n",
        "                article_dict[\"Methods\"]='None'\n",
        "            article_dict[\"Publication_date\"] = article.publication_date\n",
        "            article_dict[\"PubmedID\"]= article.pubmed_id\n",
        "            try:\n",
        "                article_dict[\"Results\"]=article.results\n",
        "            except:\n",
        "                article_dict[\"Results\"]='None'\n",
        "            article_dict[\"Title\"] = article.title\n",
        "            try:\n",
        "                article_dict[\"Keywords\"] = '; '.join(article.keywords) \n",
        "            except:\n",
        "                article_dict[\"Keywords\"] = \"None\"\n",
        "            authors = []\n",
        "            affils = []\n",
        "            for a,author in enumerate(article.authors):\n",
        "                # print(article.authors)\n",
        "                auth = []\n",
        "                auth.append(author['lastname'])\n",
        "                auth.append(author['firstname'])\n",
        "                auth.append(author['initials'])\n",
        "                author_name = ', '.join(str(x) for x in auth)\n",
        "                authors.append(author_name)\n",
        "\n",
        "                try:\n",
        "                    if author['affiliation']!= None:\n",
        "                        affils.append(author['affiliation'])\n",
        "                    else:\n",
        "                        affils.append('None')\n",
        "                except:\n",
        "                    affils.append('None')\n",
        "\n",
        "\n",
        "            article_dict[\"Authors\"] = '; '.join(authors) \n",
        "            article_dict[\"Affiliations\"] = '; '.join(affils) \n",
        "            article_dict_list.append(article_dict)\n",
        "    y = y + 5\n",
        "    print(len(article_dict_list), ' results appending to art dataframe', u.Universities[k].upper())\n",
        "    temp = pd.concat([temp, pd.DataFrame(article_dict_list)])\n",
        "  art = pd.concat([art, temp])\n",
        "  print('size_of_temp', len(temp)) \n",
        "  if temp.empty:\n",
        "    print('Dataframe is empty')\n",
        "  else:\n",
        "    temp.drop_duplicates(subset=['Title', 'Abstract'], inplace=True)\n",
        "    filename = \"{0}_FullRecord.csv\".format(u.Universities[k].upper())\n",
        "    temp.to_csv(filename, index=False)\n",
        "    files.download(filename)\n",
        "    time.sleep(7)\n",
        "  k = k + 1"
      ],
      "metadata": {
        "id": "2AxjBX_8izMg"
      },
      "id": "2AxjBX_8izMg",
      "execution_count": null,
      "outputs": []
    },
    {
      "cell_type": "code",
      "source": [
        "len(art)"
      ],
      "metadata": {
        "id": "3sJ2n-BF_9vJ"
      },
      "id": "3sJ2n-BF_9vJ",
      "execution_count": null,
      "outputs": []
    },
    {
      "cell_type": "code",
      "source": [
        "u.head(10)"
      ],
      "metadata": {
        "id": "5dzOVGd7b5dY"
      },
      "id": "5dzOVGd7b5dY",
      "execution_count": null,
      "outputs": []
    },
    {
      "cell_type": "code",
      "source": [
        "art.head(1)"
      ],
      "metadata": {
        "id": "LC9U2_QEepTr"
      },
      "id": "LC9U2_QEepTr",
      "execution_count": null,
      "outputs": []
    },
    {
      "cell_type": "code",
      "source": [
        "# j = pd.read_csv('journals.csv')\n",
        "# s = \" \"\n",
        "# for i in range(len(j)):\n",
        "#   s = s + str(j.Title[i]) + ', '\n",
        "# s"
      ],
      "metadata": {
        "id": "9060Lr30VvT8"
      },
      "id": "9060Lr30VvT8",
      "execution_count": null,
      "outputs": []
    },
    {
      "cell_type": "code",
      "source": [
        "# https://www.kaggle.com/code/summerkrankin/pubmed-download-als/notebook"
      ],
      "metadata": {
        "id": "0l1YE-vcfQqV"
      },
      "id": "0l1YE-vcfQqV",
      "execution_count": null,
      "outputs": []
    }
  ],
  "metadata": {
    "kernelspec": {
      "display_name": "Python 3 (ipykernel)",
      "language": "python",
      "name": "python3"
    },
    "language_info": {
      "codemirror_mode": {
        "name": "ipython",
        "version": 3
      },
      "file_extension": ".py",
      "mimetype": "text/x-python",
      "name": "python",
      "nbconvert_exporter": "python",
      "pygments_lexer": "ipython3",
      "version": "3.9.7"
    },
    "colab": {
      "provenance": [],
      "include_colab_link": true
    }
  },
  "nbformat": 4,
  "nbformat_minor": 5
}