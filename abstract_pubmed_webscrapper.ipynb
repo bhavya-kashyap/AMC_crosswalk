{
  "cells": [
    {
      "cell_type": "markdown",
      "metadata": {
        "id": "view-in-github",
        "colab_type": "text"
      },
      "source": [
        "<a href=\"https://colab.research.google.com/github/bhavya-kashyap/AMC_crosswalk/blob/main/abstract_pubmed_webscrapper.ipynb\" target=\"_parent\"><img src=\"https://colab.research.google.com/assets/colab-badge.svg\" alt=\"Open In Colab\"/></a>"
      ]
    },
    {
      "cell_type": "code",
      "source": [
        "!apt update\n",
        "!apt install chromium-chromedriver\n",
        "# !pip install selenium\n",
        "# !pip install bs4\n",
        "!pip install pymed"
      ],
      "metadata": {
        "id": "XoBK_wpnJQJB"
      },
      "id": "XoBK_wpnJQJB",
      "execution_count": null,
      "outputs": []
    },
    {
      "cell_type": "code",
      "execution_count": 2,
      "id": "11409abe",
      "metadata": {
        "id": "11409abe"
      },
      "outputs": [],
      "source": [
        "import pandas as pd\n",
        "import numpy as np\n",
        "from pymed import PubMed\n",
        "# from selenium import webdriver\n",
        "# from selenium.webdriver.chrome.options import Options\n",
        "# from selenium.webdriver.common.by import By\n",
        "# from bs4 import BeautifulSoup\n",
        "import time\n",
        "import math\n",
        "from google.colab import files"
      ]
    },
    {
      "cell_type": "code",
      "execution_count": null,
      "id": "eee408f2",
      "metadata": {
        "id": "eee408f2"
      },
      "outputs": [],
      "source": [
        "# def driversetup():\n",
        "#       options = webdriver.ChromeOptions()\n",
        "#       #run Selenium in headless mode\n",
        "#       options.add_argument('--headless')\n",
        "#       options.add_argument('--no-sandbox')\n",
        "#       options.add_argument(\"enable-automation\")\n",
        "#       #overcome limited resource problems\n",
        "#       options.add_argument('--disable-dev-shm-usage')\n",
        "#       options.add_argument(\"lang=en\")\n",
        "#       #open Browser in maximized mode\n",
        "#       options.add_argument(\"start-maximized\")\n",
        "#       #disable infobars\n",
        "#       options.add_argument(\"disable-infobars\")\n",
        "#       #disable extension\n",
        "#       options.add_argument(\"--disable-browser-side-navigation\")\n",
        "#       options.add_argument(\"--disable-gpu\")\n",
        "#       options.add_argument(\"--disable-extensions\")\n",
        "#       options.add_argument(\"--incognito\")\n",
        "#       options.add_argument(\"--disable-blink-features=AutomationControlled\")\n",
        "#       driver = webdriver.Chrome(options=options)\n",
        "#       driver.execute_script(\"Object.defineProperty(navigator, 'webdriver', {get: () => undefined});\")\n",
        "#       return driver\n",
        "\n",
        "# def pagesource(url, driver):\n",
        "#       driver = driver\n",
        "#       driver.get(url)\n",
        "#       time.sleep(5)\n",
        "#       soup = BeautifulSoup(driver.page_source)\n",
        "#       return soup\n",
        "\n",
        "# d = driversetup()\n",
        "# abstracts = []\n",
        "# for i in range(len(df)):\n",
        "#   s = pagesource(df.loc[i]['URL'], d)\n",
        "#   abstract = list(s.findAll('div', class_=\"abstract-content selected\"))\n",
        "#   a = ''\n",
        "#   for j in range(len(abstract)):\n",
        "#     a = a + ' ' + abstract[j].text\n",
        "#   abstracts.append(a)\n",
        "#   print(i, a)\n",
        "\n",
        "# df[\"PubMedAbstracts\"] = abstracts\n",
        "\n",
        "# df.to_csv('GeorgiaPubmedAbstracts.csv', index=False)\n",
        "# files.download(\"GeorgiaPubmedAbstracts.csv\")\n",
        "# abs = pd.DataFrame({'Abstracts' : abstracts})\n",
        "# abs.to_csv('GeorgiaAbstracts.csv')\n",
        "# files.download(\"GeorgiaAbstracts.csv\")"
      ]
    },
    {
      "cell_type": "code",
      "source": [
        "# Previous list of univeristies parsed:\n",
        "# Georgia Universities\n",
        "# uni = ['Emory University', 'Morehouse School of Medicine', 'Mercer University', 'Augusta University', 'Pacific Northwest University of Health Sciences College of Osteopathic Medicine']\n",
        "# Alabama Universities\n",
        "# uni = ['University of Alabama', 'University of South Alabama', 'Alabama College of Osteopathic Medicine', 'William Carey University College of Osteopathic Med', 'Edward Via College of Osteopathic Medicine', ]\n",
        "# Alaska Universities\n",
        "# uni = ['University of Alaska Anchorage', 'Alaska Pacific University', 'University of Alaska Fairbanks', 'University of Alaska Southeast', 'Ilisagvik College']\n",
        "# Arizona universities\n",
        "# uni = ['University of Arizona', 'Mayo Clinic Alix School of Medicine']\n",
        "# Arkansas universities\n",
        "# uni = ['University of Arkansas', 'Arkansas College of Osteopathic Medicine', 'New York Institute of Technology College of Osteopathic Medicine at Arkansas State University', '']\n",
        "# California universities\n",
        "# uni = ['Stanford', 'University of California', 'University of South California', 'Touro University of California', 'Western University of Health Sciences', \n",
        "#         'California Health Sciences University College of Osteopathic Medicine', 'California Northstate University', 'California University of Science and Medicine',\n",
        "#        'Kaiser Permanente School of Medicine', 'Loma Linda University', 'Charles Drew', 'UCLA']\n",
        "# Colorado Universities\n",
        "# uni = ['University of Colorado', 'Rocky Vista University College of Osteopathic Medicine']\n",
        "# Connecticut universities\n",
        "# uni = ['Frank H. Netter MD School of Medicine at Quinnipiac University', 'University of Connecticut School of Medicine', 'Yale School of Medicine']\n",
        "# Delaware universities\n",
        "# uni = ['University of Delaware', 'Wilmington University', 'Delaware State University', 'Goldey Beacom College', 'Delaware Technical Community College Terry', 'Wesley College']\n",
        "# District of Colombia universities\n",
        "# uni = ['George Washington University School of Medicine and Health Sciences', 'Georgetown University School of Medicine', 'Howard University College of Medicine']\n",
        "# Florida universities\n",
        "# uni = ['University of Florida', 'University of Miami (Miller)', 'USF Morsani College of Medicine', 'University of Central Florida',\n",
        "#        'Florida Atlantic University (Schmidt)', 'Florida State University', 'Florida International University Herbert Wertheim College of Medicine',\n",
        "#        'Nova Southeastern University Dr. Kiran C. Patel Allopathic College of Medicine']\n",
        "# Hawaii universities\n",
        "# uni = ['University of Hawaii']\n",
        "# Idaho universities\n",
        "# uni = ['Idaho College of Osteopathic Medicine']\n",
        "# Illinois universities\n",
        "# uni = ['Carle Illinois College of Medicine', 'Chicago Medical School at Rosalind Franklin University of Medicine & Science', 'Loyola University Chicago Stritch School of Medicine',\n",
        "#        'Northwestern University The Feinberg School of Medicine', 'Rush Medical College of Rush University Medical Center', 'Southern Illinois University School of Medicine',\n",
        "#        'University of Chicago Division of the Biological Sciences The Pritzker School of Medicine', 'University of Illinois College of Medicine']\n",
        "# Indiana universities\n",
        "# uni = ['Indiana University School of Medicine', 'Marian University College of Osteopathic Medicine']\n",
        "# Iowa universities\n",
        "# uni = ['University of Iowa']\n",
        "# Kansas universities\n",
        "# uni = ['University of Kansas School of Medicine']\n",
        "# Kentucky universities\n",
        "# uni = ['University of Kentucky College of Medicine', 'University of Louisville School of Medicine', 'University of Pikeville Kentucky College of Osteopathic Medicine']\n",
        "# Louisiana university\n",
        "# uni = ['Louisiana State University School of Medicine', 'Louisiana State University School of Medicine', 'Tulane University School of Medicine']\n",
        "# Maine universities\n",
        "# uni = ['University of New England College of Osteopathic Medicine']\n",
        "# Maryland universities\n",
        "# uni = ['Johns Hopkins University School of Medicine', 'Uniformed Services University of the Health Sciences F. Edward Hebert School of Medicine', 'University of Maryland School of Medicine']\n",
        "# Massachusettes universities\n",
        "# uni = ['Boston University School of Medicine', 'Harvard Medical School', 'Tufts University School of Medicine', 'University of Massachusetts Medical School (Worcester)']\n",
        "# Michigan universities\n",
        "# uni = ['Central Michigan University College of Medicine', 'Michigan State University College of Human Medicine', 'Oakland University William Beaumont School of Medicine',\n",
        "#        'University of Michigan Medical School', 'Wayne State University School of Medicine', 'Western Michigan University Homer Stryker M.D. School of Medicine']\n",
        "# Minessota universities\n",
        "# uni = ['Mayo Clinic Alix School of Medicine', 'University of Minnesota Medical School', 'University of Minnesota Medical School']\n",
        "# Mississippi universities\n",
        "# uni = ['University of Mississippi School of Medicine', 'William Carey University College of Osteopathic Medicine']\n",
        "# Missouri universities\n",
        "# uni = ['Saint Louis University School of Medicine', 'University of Missouri', 'Washington University School of Medicine', 'A.T. Still University Kirksville College of Osteopathic Medicine', \n",
        "#        'Kansas City University of Medicine and Biosciences College of Osteopathic Medicine']\n"
      ],
      "metadata": {
        "id": "JUU5wYZbJ3Pr"
      },
      "id": "JUU5wYZbJ3Pr",
      "execution_count": null,
      "outputs": []
    },
    {
      "cell_type": "code",
      "source": [
        "print(u.Universities[1].upper())"
      ],
      "metadata": {
        "id": "KqxFsin_d5kC",
        "outputId": "5511e6bc-9ece-45a6-b582-73b756884806",
        "colab": {
          "base_uri": "https://localhost:8080/"
        }
      },
      "id": "KqxFsin_d5kC",
      "execution_count": 37,
      "outputs": [
        {
          "output_type": "stream",
          "name": "stdout",
          "text": [
            "UNIVERSITY OF SOUTH ALABAMA\n"
          ]
        }
      ]
    },
    {
      "cell_type": "code",
      "source": [
        "# Pymed\n",
        "\n",
        "pubmed = PubMed(tool=\"MyTool\",\n",
        "                email=\"bkkashyapbhavya97@gmail.com\",\n",
        "                )\n",
        "\n",
        "# import the US AMC University List data\n",
        "u1 = pd.read_excel('US AMC University List.xlsx', sheet_name='Full University List')\n",
        "u2 = pd.read_excel('US AMC University List.xlsx', sheet_name='AL-MO')\n",
        "u3 = pd.read_excel('US AMC University List.xlsx', sheet_name='NE-WA')\n",
        "u4 = pd.read_excel('US AMC University List.xlsx', sheet_name='NY-NC-PA-TN-TX')\n",
        "u = pd.concat([u1, u2, u3, u4], axis=0).dropna().rename(columns = {'Unnamed: 0' : 'Universities'}).drop_duplicates(subset=['Universities']).reset_index()\n",
        "\n",
        "# Date attributes in query\n",
        "date = '(\"2000/01/01\"[Date - Publication] : \"2014/12/31\"[Date - Publication])'\n",
        "journals = pd.read_csv('journals.csv')\n",
        "\n",
        "# uni_query = '('\n",
        "# for i in range(len(u)):\n",
        "#   uni_query += '(' + u.Universities[i].upper() + '[AFFILIATION]' + ')' + ' OR '\n",
        "# uni_query = uni_query[:-4] + ')' + ' AND ' + date + ' AND ' + '('\n",
        " \n",
        "# initialize a dataframe : \n",
        "art = pd.DataFrame()\n",
        "\n",
        "# query and fetch data for each journal out of the selected 145 journals\n",
        "for k in range(len(journals)):\n",
        "  for x in range(len(u)):\n",
        "    query = '(' + u.Universities[x].upper() + '[AFFILIATION]' + ')' + ' AND ' + date + ' AND ' + '('+ str(journals.Title[k]).upper() + '[JOURNAL])'\n",
        "    # no more than 3 requests in a second\n",
        "    time.sleep(0.35)\n",
        "    results = list(pubmed.query(query, max_results=50000))\n",
        "    \n",
        "    # article_dict = {}\n",
        "    article_dict_list = []\n",
        "\n",
        "    # Loop over the retrieved articles\n",
        "    for i, article in enumerate(results):\n",
        "        article_dict = {}\n",
        "        if not article.abstract:\n",
        "            pass \n",
        "        else:\n",
        "            article_dict['Abstract'] = article.abstract\n",
        "            try:\n",
        "                article_dict[\"Conclusions\"]= article.conclusions\n",
        "            except:\n",
        "                article_dict[\"Conclusions\"]= 'None'\n",
        "            article_dict[\"Copyrights\"] = article.copyrights\n",
        "            article_dict[\"DOI\"] = article.doi\n",
        "            try:\n",
        "                article_dict[\"Journal\"] = article.journal\n",
        "            except:\n",
        "                article_dict[\"Journal\"] ='None'\n",
        "            try:\n",
        "                article_dict[\"Methods\"] = article.methods\n",
        "            except:\n",
        "                article_dict[\"Methods\"]='None'\n",
        "            article_dict[\"Publication_date\"] = article.publication_date\n",
        "            article_dict[\"PubmedID\"]= article.pubmed_id\n",
        "            try:\n",
        "                article_dict[\"Results\"]=article.results\n",
        "            except:\n",
        "                article_dict[\"Results\"]='None'\n",
        "            article_dict[\"Title\"] = article.title\n",
        "            try:\n",
        "                article_dict[\"Keywords\"] = '; '.join(article.keywords) \n",
        "            except:\n",
        "                article_dict[\"Keywords\"] = \"None\"\n",
        "            authors = []\n",
        "            affils = []\n",
        "            for a,author in enumerate(article.authors):\n",
        "                # print(article.authors)\n",
        "                auth = []\n",
        "                auth.append(author['lastname'])\n",
        "                auth.append(author['firstname'])\n",
        "                auth.append(author['initials'])\n",
        "                author_name = ', '.join(str(x) for x in auth)\n",
        "                authors.append(author_name)\n",
        "\n",
        "                try:\n",
        "                    if author['affiliation']!= None:\n",
        "                        affils.append(author['affiliation'])\n",
        "                    else:\n",
        "                        affils.append('None')\n",
        "                except:\n",
        "                    affils.append('None')\n",
        "\n",
        "\n",
        "            article_dict[\"Authors\"] = '; '.join(authors) \n",
        "            article_dict[\"Affiliations\"] = '; '.join(affils) \n",
        "            article_dict_list.append(article_dict)\n",
        "    print(k, journals.Title[k], len(article_dict_list), ' results appending to art dataframe', u.Universities[x].upper())\n",
        "    art = pd.concat([art, pd.DataFrame(article_dict_list)])\n"
      ],
      "metadata": {
        "id": "2AxjBX_8izMg",
        "colab": {
          "base_uri": "https://localhost:8080/"
        },
        "outputId": "e1d4185c-b26b-4f7a-bfff-965e12d42967"
      },
      "id": "2AxjBX_8izMg",
      "execution_count": null,
      "outputs": [
        {
          "output_type": "stream",
          "name": "stdout",
          "text": [
            "0 MMWR Recommendations and Reports 0  results appending to art dataframe UNIVERSITY OF ALABAMA AT BIRMINGHAM\n",
            "0 MMWR Recommendations and Reports 0  results appending to art dataframe UNIVERSITY OF SOUTH ALABAMA\n",
            "0 MMWR Recommendations and Reports 0  results appending to art dataframe UNIVERSITY OF ARKANSAS\n",
            "0 MMWR Recommendations and Reports 0  results appending to art dataframe UNIVERSITY OF ARIZONA\n",
            "0 MMWR Recommendations and Reports 0  results appending to art dataframe DARTMOUTH COLLEGE\n",
            "0 MMWR Recommendations and Reports 0  results appending to art dataframe LOMA LINDA UNIVERSITY\n",
            "0 MMWR Recommendations and Reports 0  results appending to art dataframe STANFORD UNIVERSITY\n",
            "0 MMWR Recommendations and Reports 0  results appending to art dataframe UNIVERSITY OF COLORADO\n",
            "0 MMWR Recommendations and Reports 0  results appending to art dataframe YALE UNIVERSITY\n",
            "0 MMWR Recommendations and Reports 0  results appending to art dataframe UNIVERSITY OF CONNECTICUT\n",
            "0 MMWR Recommendations and Reports 0  results appending to art dataframe UNIVERSITY OF VERMONT\n",
            "0 MMWR Recommendations and Reports 0  results appending to art dataframe GEORGE WASHINGTON UNIVERSITY\n",
            "0 MMWR Recommendations and Reports 0  results appending to art dataframe HOWARD UNIVERSITY\n",
            "0 MMWR Recommendations and Reports 0  results appending to art dataframe GEORGETOWN UNIVERSITY\n",
            "0 MMWR Recommendations and Reports 0  results appending to art dataframe UNIVERSITY OF FLORIDA\n",
            "0 MMWR Recommendations and Reports 0  results appending to art dataframe UNIVERSITY OF CENTRAL FLORIDA\n",
            "0 MMWR Recommendations and Reports 0  results appending to art dataframe UNIVERSITY OF MIAMI\n",
            "0 MMWR Recommendations and Reports 0  results appending to art dataframe FLORIDA INTERNATIONAL UNIVERSITY\n",
            "0 MMWR Recommendations and Reports 0  results appending to art dataframe FLORIDA STATE UNIVERSITY\n",
            "0 MMWR Recommendations and Reports 0  results appending to art dataframe UNIVERSITY OF SOUTH FLORIDA\n",
            "0 MMWR Recommendations and Reports 0  results appending to art dataframe EMORY UNIVERSITY\n",
            "0 MMWR Recommendations and Reports 0  results appending to art dataframe AUGUSTA UNIVERSITY\n",
            "0 MMWR Recommendations and Reports 0  results appending to art dataframe MERCER UNIVERSITY\n",
            "0 MMWR Recommendations and Reports 0  results appending to art dataframe UNIVERSITY OF IOWA\n",
            "0 MMWR Recommendations and Reports 0  results appending to art dataframe UNIVERSITY OF CHICAGO\n",
            "0 MMWR Recommendations and Reports 0  results appending to art dataframe NORTHWESTERN UNIVERSITY\n",
            "0 MMWR Recommendations and Reports 0  results appending to art dataframe UNIVERSITY OF ILLINOIS\n",
            "0 MMWR Recommendations and Reports 0  results appending to art dataframe LOYOLA UNIVERSITY OF CHICAGO\n",
            "0 MMWR Recommendations and Reports 0  results appending to art dataframe RUSH UNIVERSITY\n",
            "0 MMWR Recommendations and Reports 0  results appending to art dataframe SOUTHERN ILLINOIS UNIVERSITY\n",
            "0 MMWR Recommendations and Reports 0  results appending to art dataframe INDIANA UNIVERSITY\n",
            "0 MMWR Recommendations and Reports 0  results appending to art dataframe UNIVERSITY OF KANSAS\n",
            "0 MMWR Recommendations and Reports 0  results appending to art dataframe UNIVERSITY OF KENTUCKY\n",
            "0 MMWR Recommendations and Reports 0  results appending to art dataframe UNIVERSITY OF LOUISVILLE\n",
            "0 MMWR Recommendations and Reports 0  results appending to art dataframe LOUISIANA STATE UNIVERSITY\n",
            "0 MMWR Recommendations and Reports 0  results appending to art dataframe TULANE UNIVERSITY\n",
            "0 MMWR Recommendations and Reports 0  results appending to art dataframe BOSTON UNIVERSITY\n",
            "0 MMWR Recommendations and Reports 0  results appending to art dataframe HARVARD UNIVERSITY\n",
            "0 MMWR Recommendations and Reports 0  results appending to art dataframe TUFTS UNIVERSITY\n",
            "0 MMWR Recommendations and Reports 0  results appending to art dataframe UNIVERSITY OF MASSACHUSETTS\n",
            "0 MMWR Recommendations and Reports 0  results appending to art dataframe JOHNS HOPKINS UNIVERSITY\n",
            "0 MMWR Recommendations and Reports 0  results appending to art dataframe UNIVERSITY OF MARYLAND\n",
            "0 MMWR Recommendations and Reports 0  results appending to art dataframe MICHIGAN STATE UNIVERSITY\n",
            "0 MMWR Recommendations and Reports 0  results appending to art dataframe UNIVERSITY OF MICHIGAN\n",
            "0 MMWR Recommendations and Reports 0  results appending to art dataframe WAYNE STATE UNIVERSITY\n",
            "0 MMWR Recommendations and Reports 0  results appending to art dataframe OAKLAND UNIVERSITY\n",
            "0 MMWR Recommendations and Reports 0  results appending to art dataframe UNIVERSITY OF MISSISSIPPI\n",
            "0 MMWR Recommendations and Reports 0  results appending to art dataframe UNIVERSITY OF MINNESOTA\n",
            "0 MMWR Recommendations and Reports 0  results appending to art dataframe UNIVERSITY OF MISSOURI\n",
            "0 MMWR Recommendations and Reports 0  results appending to art dataframe UNIVERSITY OF MISSOURI KANSAS CITY\n",
            "0 MMWR Recommendations and Reports 0  results appending to art dataframe WASHINGTON UNIVERSITY IN ST LOUIS\n",
            "0 MMWR Recommendations and Reports 0  results appending to art dataframe SAINT LOUIS UNIVERSITY\n",
            "0 MMWR Recommendations and Reports 0  results appending to art dataframe CREIGHTON UNIVERSITY\n",
            "0 MMWR Recommendations and Reports 0  results appending to art dataframe WESTERN UNIVERSITY\n",
            "0 MMWR Recommendations and Reports 0  results appending to art dataframe DARTMOUTH\n",
            "0 MMWR Recommendations and Reports 0  results appending to art dataframe QUINNIPIAC UNIVERSITY\n",
            "0 MMWR Recommendations and Reports 0  results appending to art dataframe UNIFORMED SERVICES UNIVERSITY OF THE HEALTH SCIENCES\n",
            "0 MMWR Recommendations and Reports 0  results appending to art dataframe NOVA SOUTHEASTERN UNIVERSITY\n"
          ]
        }
      ]
    },
    {
      "cell_type": "code",
      "source": [
        "len(art)"
      ],
      "metadata": {
        "colab": {
          "base_uri": "https://localhost:8080/"
        },
        "id": "3sJ2n-BF_9vJ",
        "outputId": "1d22be1e-e131-40a8-b2ad-0bfd0a499767"
      },
      "id": "3sJ2n-BF_9vJ",
      "execution_count": null,
      "outputs": [
        {
          "output_type": "execute_result",
          "data": {
            "text/plain": [
              "1377"
            ]
          },
          "metadata": {},
          "execution_count": 75
        }
      ]
    },
    {
      "cell_type": "code",
      "source": [
        "art.to_csv('MissouriPubmedFullRecord.csv', index=False)\n",
        "files.download('MissouriPubmedFullRecord.csv')"
      ],
      "metadata": {
        "id": "5dzOVGd7b5dY",
        "outputId": "d9fd4214-c645-4919-a757-db3d91d4512c",
        "colab": {
          "base_uri": "https://localhost:8080/",
          "height": 17
        }
      },
      "id": "5dzOVGd7b5dY",
      "execution_count": null,
      "outputs": [
        {
          "output_type": "display_data",
          "data": {
            "text/plain": [
              "<IPython.core.display.Javascript object>"
            ],
            "application/javascript": [
              "\n",
              "    async function download(id, filename, size) {\n",
              "      if (!google.colab.kernel.accessAllowed) {\n",
              "        return;\n",
              "      }\n",
              "      const div = document.createElement('div');\n",
              "      const label = document.createElement('label');\n",
              "      label.textContent = `Downloading \"${filename}\": `;\n",
              "      div.appendChild(label);\n",
              "      const progress = document.createElement('progress');\n",
              "      progress.max = size;\n",
              "      div.appendChild(progress);\n",
              "      document.body.appendChild(div);\n",
              "\n",
              "      const buffers = [];\n",
              "      let downloaded = 0;\n",
              "\n",
              "      const channel = await google.colab.kernel.comms.open(id);\n",
              "      // Send a message to notify the kernel that we're ready.\n",
              "      channel.send({})\n",
              "\n",
              "      for await (const message of channel.messages) {\n",
              "        // Send a message to notify the kernel that we're ready.\n",
              "        channel.send({})\n",
              "        if (message.buffers) {\n",
              "          for (const buffer of message.buffers) {\n",
              "            buffers.push(buffer);\n",
              "            downloaded += buffer.byteLength;\n",
              "            progress.value = downloaded;\n",
              "          }\n",
              "        }\n",
              "      }\n",
              "      const blob = new Blob(buffers, {type: 'application/binary'});\n",
              "      const a = document.createElement('a');\n",
              "      a.href = window.URL.createObjectURL(blob);\n",
              "      a.download = filename;\n",
              "      div.appendChild(a);\n",
              "      a.click();\n",
              "      div.remove();\n",
              "    }\n",
              "  "
            ]
          },
          "metadata": {}
        },
        {
          "output_type": "display_data",
          "data": {
            "text/plain": [
              "<IPython.core.display.Javascript object>"
            ],
            "application/javascript": [
              "download(\"download_2f68f897-048b-4666-9410-a3c9fc983c26\", \"MissouriPubmedFullRecord.csv\", 3484316)"
            ]
          },
          "metadata": {}
        }
      ]
    },
    {
      "cell_type": "code",
      "source": [
        "# art.describe()"
      ],
      "metadata": {
        "id": "LC9U2_QEepTr"
      },
      "id": "LC9U2_QEepTr",
      "execution_count": null,
      "outputs": []
    },
    {
      "cell_type": "code",
      "source": [
        "j = pd.read_csv('journals.csv')\n",
        "s = \" \"\n",
        "for i in range(len(j)):\n",
        "  s = s + str(j.Title[i]) + ', '\n",
        "s"
      ],
      "metadata": {
        "id": "9060Lr30VvT8",
        "outputId": "ee39813f-5cbc-4156-b493-36c91ddbdae7",
        "colab": {
          "base_uri": "https://localhost:8080/",
          "height": 140
        }
      },
      "id": "9060Lr30VvT8",
      "execution_count": null,
      "outputs": [
        {
          "output_type": "execute_result",
          "data": {
            "text/plain": [
              "\" MMWR Recommendations and Reports, New England Journal of Medicine, Nature Medicine, Nature Reviews Immunology, Morbidity and Mortality Weekly Report, Lancet, Physiological Reviews, Nature Reviews Drug Discovery, Annual Review of Pathology: Mechanisms of Disease, Journal of Clinical Oncology, Lancet Global Health, Annals of Oncology, Annual Review of Public Health, Nature Reviews Disease Primers, Accounts of Chemical Research, Annual Review of Clinical Psychology, Journal of Experimental Medicine, Molecular Systems Biology, Annual Review of Microbiology, JAMA - Journal of the American Medical Association, Lancet Digital Health, Reports on Progress in Physics, Nature Biomedical Engineering, EMBO Journal, JAMA Psychiatry, Nature Reviews Molecular Cell Biology, Cell, Nature Reviews Genetics, Nature Biotechnology, Nature Reviews Cancer, Nature Genetics, Annual Review of Biochemistry, Nature Catalysis, Nature Methods, Cancer Cell, Molecular Cell, Nature Cell Biology, Lancet Diabetes and Endocrinology, Nature Microbiology, Annual Review of Plant Biology, Annual Review of Genetics, Cell Host and Microbe, Genome Biology, Cell Metabolism, Nature Reviews Endocrinology, Nature Structural and Molecular Biology, Nucleic Acids Research, Pharmacological Reviews, Annual Review of Pharmacology and Toxicology, Nano Today, Drug Resistance Updates, Journal for ImmunoTherapy of Cancer, Trends in Pharmacological Sciences, Emerging Microbes and Infections, Pharmacology and Therapeutics, Molecular Therapy, npj Vaccines, Advanced Drug Delivery Reviews, Natural Product Reports, Cell Chemical Biology, Protein and Cell, Cellular and Molecular Life Sciences, Medicinal Research Reviews, Neuropsychopharmacology, Antiviral Research, Acta Pharmaceutica Sinica B, Pain, Theranostics, Advanced healthcare materials, British Journal of Pharmacology, Environmental Pollution, Alzheimer's and Dementia, Health Affairs, Lancet Planetary Health, Implementation Science, Infectious Disease Modelling, BMJ Global Health, Globalization and Health, Journal of Health Economics, Journal of the American Medical Directors Association, Milbank Quarterly, European heart journal. Quality of care &amp, clinical outcomes, BMJ Quality and Safety, Health Services Research, Medical Care Research and Review, Value in Health, Policy and Internet, International Journal of Drug Policy, International Journal for Equity in Health, Journal of Global Health, PharmacoEconomics, Health Research Policy and Systems, Global Health Research and Policy, International Journal of Transgender Health, JCO Oncology Practice, Preventing chronic disease, Nature, Science, Science advances, Proceedings of the National Academy of Sciences of the United States of America, National Science Review, Science Bulletin, Research, Journal of Advanced Research, iScience, Scientific Reports, Tsinghua Science and Technology, Proceedings of the Japan Academy Series B: Physical and Biological Sciences, Advanced Theory and Simulations, Progress in Natural Science: Materials International, PLoS ONE, Science and Technology Studies, Royal Society Open Science, Research in Science and Technological Education, International Journal of Bifurcation and Chaos in Applied Sciences and Engineering, Latin American Research Review, Fractals, Facets, Heliyon, Journal of King Saud University - Science, Arabian Journal for Science and Engineering, Clinical and Translational Immunology, Journal of Pain and Symptom Management, International Journal of Nursing Studies, Nurse Education Today, Journal of Nursing Scholarship, Journal of Palliative Medicine, Patient, Clinical Simulation in Nursing, International Nursing Review, Journal of Clinical Nursing, Worldviews on Evidence-Based Nursing, Nurse Education in Practice, Journal of Advanced Nursing, Journal of School Nursing, Journal of Religion and Health, International Journal of Nursing Sciences, Nursing Outlook, Palliative and Supportive Care, Symbolic Interaction, Journal of Professional Nursing, Journal of Transcultural Nursing, Journal of Nursing Education, BMC Nursing, Journal of Multidisciplinary Healthcare, \""
            ],
            "application/vnd.google.colaboratory.intrinsic+json": {
              "type": "string"
            }
          },
          "metadata": {},
          "execution_count": 62
        }
      ]
    },
    {
      "cell_type": "code",
      "source": [
        "# https://www.kaggle.com/code/summerkrankin/pubmed-download-als/notebook"
      ],
      "metadata": {
        "id": "0l1YE-vcfQqV"
      },
      "id": "0l1YE-vcfQqV",
      "execution_count": null,
      "outputs": []
    }
  ],
  "metadata": {
    "kernelspec": {
      "display_name": "Python 3 (ipykernel)",
      "language": "python",
      "name": "python3"
    },
    "language_info": {
      "codemirror_mode": {
        "name": "ipython",
        "version": 3
      },
      "file_extension": ".py",
      "mimetype": "text/x-python",
      "name": "python",
      "nbconvert_exporter": "python",
      "pygments_lexer": "ipython3",
      "version": "3.9.7"
    },
    "colab": {
      "provenance": [],
      "include_colab_link": true
    }
  },
  "nbformat": 4,
  "nbformat_minor": 5
}