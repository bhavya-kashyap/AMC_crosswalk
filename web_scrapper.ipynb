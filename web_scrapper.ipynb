{
  "cells": [
    {
      "cell_type": "code",
      "source": [
        "!apt update\n",
        "!apt install chromium-chromedriver\n",
        "!pip install selenium\n",
        "!pip install bs4"
      ],
      "metadata": {
        "id": "Cgh84PJPKAeP",
        "outputId": "1a36b21c-e8ad-4763-e24f-bf93694066cf",
        "colab": {
          "base_uri": "https://localhost:8080/"
        }
      },
      "id": "Cgh84PJPKAeP",
      "execution_count": 71,
      "outputs": [
        {
          "output_type": "stream",
          "name": "stdout",
          "text": [
            "Get:1 https://cloud.r-project.org/bin/linux/ubuntu bionic-cran40/ InRelease [3,626 B]\n",
            "Ign:2 https://developer.download.nvidia.com/compute/machine-learning/repos/ubuntu1804/x86_64  InRelease\n",
            "Hit:3 https://developer.download.nvidia.com/compute/cuda/repos/ubuntu1804/x86_64  InRelease\n",
            "Get:4 http://security.ubuntu.com/ubuntu bionic-security InRelease [88.7 kB]\n",
            "Hit:5 https://developer.download.nvidia.com/compute/machine-learning/repos/ubuntu1804/x86_64  Release\n",
            "Hit:6 http://ppa.launchpad.net/c2d4u.team/c2d4u4.0+/ubuntu bionic InRelease\n",
            "Hit:7 http://archive.ubuntu.com/ubuntu bionic InRelease\n",
            "Get:8 http://archive.ubuntu.com/ubuntu bionic-updates InRelease [88.7 kB]\n",
            "Hit:9 http://ppa.launchpad.net/cran/libgit2/ubuntu bionic InRelease\n",
            "Hit:10 http://ppa.launchpad.net/deadsnakes/ppa/ubuntu bionic InRelease\n",
            "Get:11 http://archive.ubuntu.com/ubuntu bionic-backports InRelease [83.3 kB]\n",
            "Hit:13 http://ppa.launchpad.net/graphics-drivers/ppa/ubuntu bionic InRelease\n",
            "Fetched 264 kB in 3s (105 kB/s)\n",
            "Reading package lists... Done\n",
            "Building dependency tree       \n",
            "Reading state information... Done\n",
            "22 packages can be upgraded. Run 'apt list --upgradable' to see them.\n",
            "Reading package lists... Done\n",
            "Building dependency tree       \n",
            "Reading state information... Done\n",
            "chromium-chromedriver is already the newest version (105.0.5195.102-0ubuntu0.18.04.1).\n",
            "The following package was automatically installed and is no longer required:\n",
            "  libnvidia-common-460\n",
            "Use 'apt autoremove' to remove it.\n",
            "0 upgraded, 0 newly installed, 0 to remove and 22 not upgraded.\n",
            "Looking in indexes: https://pypi.org/simple, https://us-python.pkg.dev/colab-wheels/public/simple/\n",
            "Requirement already satisfied: selenium in /usr/local/lib/python3.7/dist-packages (4.5.0)\n",
            "Requirement already satisfied: trio-websocket~=0.9 in /usr/local/lib/python3.7/dist-packages (from selenium) (0.9.2)\n",
            "Requirement already satisfied: certifi>=2021.10.8 in /usr/local/lib/python3.7/dist-packages (from selenium) (2022.9.24)\n",
            "Requirement already satisfied: trio~=0.17 in /usr/local/lib/python3.7/dist-packages (from selenium) (0.22.0)\n",
            "Requirement already satisfied: urllib3[socks]~=1.26 in /usr/local/lib/python3.7/dist-packages (from selenium) (1.26.12)\n",
            "Requirement already satisfied: idna in /usr/local/lib/python3.7/dist-packages (from trio~=0.17->selenium) (2.10)\n",
            "Requirement already satisfied: outcome in /usr/local/lib/python3.7/dist-packages (from trio~=0.17->selenium) (1.2.0)\n",
            "Requirement already satisfied: sniffio in /usr/local/lib/python3.7/dist-packages (from trio~=0.17->selenium) (1.3.0)\n",
            "Requirement already satisfied: exceptiongroup>=1.0.0rc9 in /usr/local/lib/python3.7/dist-packages (from trio~=0.17->selenium) (1.0.0rc9)\n",
            "Requirement already satisfied: async-generator>=1.9 in /usr/local/lib/python3.7/dist-packages (from trio~=0.17->selenium) (1.10)\n",
            "Requirement already satisfied: sortedcontainers in /usr/local/lib/python3.7/dist-packages (from trio~=0.17->selenium) (2.4.0)\n",
            "Requirement already satisfied: attrs>=19.2.0 in /usr/local/lib/python3.7/dist-packages (from trio~=0.17->selenium) (22.1.0)\n",
            "Requirement already satisfied: wsproto>=0.14 in /usr/local/lib/python3.7/dist-packages (from trio-websocket~=0.9->selenium) (1.2.0)\n",
            "Requirement already satisfied: PySocks!=1.5.7,<2.0,>=1.5.6 in /usr/local/lib/python3.7/dist-packages (from urllib3[socks]~=1.26->selenium) (1.7.1)\n",
            "Requirement already satisfied: h11<1,>=0.9.0 in /usr/local/lib/python3.7/dist-packages (from wsproto>=0.14->trio-websocket~=0.9->selenium) (0.14.0)\n",
            "Requirement already satisfied: typing-extensions in /usr/local/lib/python3.7/dist-packages (from h11<1,>=0.9.0->wsproto>=0.14->trio-websocket~=0.9->selenium) (4.1.1)\n",
            "Looking in indexes: https://pypi.org/simple, https://us-python.pkg.dev/colab-wheels/public/simple/\n",
            "Requirement already satisfied: bs4 in /usr/local/lib/python3.7/dist-packages (0.0.1)\n",
            "Requirement already satisfied: beautifulsoup4 in /usr/local/lib/python3.7/dist-packages (from bs4) (4.6.3)\n"
          ]
        }
      ]
    },
    {
      "cell_type": "code",
      "execution_count": null,
      "id": "da829f11",
      "metadata": {
        "id": "da829f11"
      },
      "outputs": [],
      "source": [
        "from selenium import webdriver\n",
        "from selenium.webdriver.chrome.options import Options\n",
        "from selenium.webdriver.common.by import By\n",
        "from bs4 import BeautifulSoup\n",
        "import time\n",
        "import math"
      ]
    },
    {
      "cell_type": "code",
      "source": [
        "import json\n",
        "import numpy as np\n",
        "import pandas as pd         \n",
        "import ctypes"
      ],
      "metadata": {
        "id": "d4y6X6wfPXFr"
      },
      "id": "d4y6X6wfPXFr",
      "execution_count": 73,
      "outputs": []
    },
    {
      "cell_type": "code",
      "source": [
        "#arizona = 'https://raw.githubusercontent.com/bhavya-kashyap/web-scrapping/main/States_raw_data/Arizona.csv'\n",
        "idaho = 'https://raw.githubusercontent.com/bhavya-kashyap/web-scrapping/main/States_raw_data/Idaho.csv'\n",
        "illinois = 'https://raw.githubusercontent.com/bhavya-kashyap/web-scrapping/main/States_raw_data/Illinois.csv'\n",
        "indiana = 'https://raw.githubusercontent.com/bhavya-kashyap/web-scrapping/main/States_raw_data/Indiana.csv'\n",
        "iowa = 'https://raw.githubusercontent.com/bhavya-kashyap/web-scrapping/main/States_raw_data/Iowa.csv'\n",
        "kansas = 'https://raw.githubusercontent.com/bhavya-kashyap/web-scrapping/main/States_raw_data/Kansas.csv'\n",
        "kentucky = 'https://raw.githubusercontent.com/bhavya-kashyap/web-scrapping/main/States_raw_data/Kentucky.csv'\n",
        "states = [idaho, illinois, indiana, iowa, kansas, kentucky]"
      ],
      "metadata": {
        "id": "fWXpjwr6YI6e"
      },
      "id": "fWXpjwr6YI6e",
      "execution_count": 74,
      "outputs": []
    },
    {
      "cell_type": "code",
      "source": [
        "hospitals = pd.read_csv(illinois)\n",
        "hospitals = hospitals[hospitals['AMC_No'].notna()]\n",
        "hospitals['AMC_No'] = hospitals[\"AMC_No\"].astype(int)\n",
        "\n",
        "baseurl = 'https://freida.ama-assn.org/institution/'\n",
        "URLS = []\n",
        "for index, i in hospitals.iterrows():\n",
        "  URLS.append(str(baseurl + str(i['AMC_No'])))\n",
        "hospitals['URLS'] = URLS"
      ],
      "metadata": {
        "id": "myu67DvrpDA-"
      },
      "id": "myu67DvrpDA-",
      "execution_count": 75,
      "outputs": []
    },
    {
      "cell_type": "code",
      "source": [
        "len(hospitals)"
      ],
      "metadata": {
        "id": "jf3AX42Zq-4H",
        "outputId": "5066b82e-2454-4b17-d2a4-024552fb5955",
        "colab": {
          "base_uri": "https://localhost:8080/"
        }
      },
      "id": "jf3AX42Zq-4H",
      "execution_count": 76,
      "outputs": [
        {
          "output_type": "execute_result",
          "data": {
            "text/plain": [
              "302"
            ]
          },
          "metadata": {},
          "execution_count": 76
        }
      ]
    },
    {
      "cell_type": "code",
      "execution_count": 77,
      "id": "b2484332",
      "metadata": {
        "id": "b2484332"
      },
      "outputs": [],
      "source": [
        "def driversetup():\n",
        "    options = webdriver.ChromeOptions()\n",
        "    #run Selenium in headless mode\n",
        "    options.add_argument('--headless')\n",
        "    options.add_argument('--no-sandbox')\n",
        "    options.add_argument(\"enable-automation\")\n",
        "    #overcome limited resource problems\n",
        "    options.add_argument('--disable-dev-shm-usage')\n",
        "    options.add_argument(\"lang=en\")\n",
        "    #open Browser in maximized mode\n",
        "    options.add_argument(\"start-maximized\")\n",
        "    #disable infobars\n",
        "    options.add_argument(\"disable-infobars\")\n",
        "    #disable extension\n",
        "    options.add_argument(\"--disable-browser-side-navigation\")\n",
        "    options.add_argument(\"--disable-gpu\")\n",
        "    options.add_argument(\"--disable-extensions\")\n",
        "    options.add_argument(\"--incognito\")\n",
        "    options.add_argument(\"--disable-blink-features=AutomationControlled\")\n",
        "    \n",
        "    driver = webdriver.Chrome(options=options)\n",
        "\n",
        "    driver.execute_script(\"Object.defineProperty(navigator, 'webdriver', {get: () => undefined});\")\n",
        "\n",
        "    return driver\n",
        "\n",
        "def pagesource(url, driver):\n",
        "    driver = driver\n",
        "    driver.get(url)\n",
        "    time.sleep(10)\n",
        "    soup = BeautifulSoup(driver.page_source)\n",
        "    #driver.close()\n",
        "    return soup\n",
        "\n"
      ]
    },
    {
      "cell_type": "code",
      "source": [
        "# d = driversetup()\n",
        "# relationship = []\n",
        "# for index, i in hospitals.iterrows():\n",
        "#   url = i['URLS']\n",
        "#   s = pagesource(url, d)\n",
        "#   med_school = list(s.findAll('small', class_=\"bold\"))\n",
        "#   print(i.Med_center, index, relationship, len(med_school))\n",
        "#   for i in range(len(med_school)):\n",
        "#     a = list(s.findAll('div', class_=\"medical-schools__school ng-star-inserted\"))\n",
        "    \n",
        "#     for i in range(len(a)):\n",
        "#       rel = a[i].findAll('div', class_='')[0].text\n",
        "#       if rel not in relationship:\n",
        "#         print(med_school[i].text, rel)\n",
        "#         relationship.append(rel)\n",
        "# relationship"
      ],
      "metadata": {
        "id": "08mgmMrM6tWg"
      },
      "id": "08mgmMrM6tWg",
      "execution_count": 78,
      "outputs": []
    },
    {
      "cell_type": "code",
      "source": [
        "mc = []\n",
        "grad = []\n",
        "mcl = []\n",
        "add = []\n",
        "d = driversetup()\n",
        "for index, i in hospitals.iterrows():\n",
        "  url = i['URLS']\n",
        "  s = pagesource(url, d)\n",
        "  med_school = list(s.findAll('small', class_=\"bold\"))\n",
        "  address = list(s.findAll('div', class_=\"details__address ng-star-inserted\")) \n",
        "  if len(med_school) == 0:\n",
        "    mc.append(\"\")\n",
        "    mcl.append(\"\")\n",
        "    grad.append(\"\")\n",
        "  elif len(med_school) == 1:\n",
        "    a = list(s.findAll('div', class_=\"medical-schools__school ng-star-inserted\"))\n",
        "    name = a[0].findAll('small', class_='bold')[0].text\n",
        "    relationship = a[0].findAll('div', class_='')[0].text\n",
        "    if 'Limited' in relationship:\n",
        "      mcl.append(name)\n",
        "      mc.append(\"\")\n",
        "      grad.append(\"\")\n",
        "    elif 'Major' in relationship:\n",
        "      mc.append(name)\n",
        "      mcl.append(\"\")\n",
        "      grad.append(\"\")\n",
        "    elif 'Graduate' in relationship:\n",
        "      mc.append(\"\")\n",
        "      mcl.append(\"\")\n",
        "      grad.append(name)\n",
        "    else:\n",
        "      print(\"NEW RELATIONSHIP FOUND : \", name)\n",
        "      break\n",
        "  elif len(med_school) > 1:   \n",
        "      major = []\n",
        "      limited = []\n",
        "      graduate = []\n",
        "      a = list(s.findAll('div', class_=\"medical-schools__school ng-star-inserted\"))\n",
        "      for i in range(len(a)):\n",
        "        name = a[i].findAll('small', class_='bold')[0].text\n",
        "        relationship = a[i].findAll('div', class_='')[0].text\n",
        "        if 'Limited' in relationship:\n",
        "          limited.append(name)\n",
        "        elif 'Graduate' in relationship:\n",
        "          graduate.append(name)\n",
        "        elif 'Major' in relationship:\n",
        "          major.append(name)\n",
        "        else:\n",
        "          print(\"New relationship found\")\n",
        "          break \n",
        "      if major == []:\n",
        "        major = ''\n",
        "      if limited == []:\n",
        "        limited = ''\n",
        "      if grad == []:\n",
        "        grad = ''\n",
        "      mc.append(major)\n",
        "      mcl.append(limited)\n",
        "      grad.append(graduate)\n",
        "  if len(address) != 0:\n",
        "    address[0].br.string = ', '\n",
        "    add.append(address[0].text)\n",
        "  else:\n",
        "    add.append(\"\")\n",
        "  print(index, 'mc', len(mc), mc[index], 'mcl', len(mcl), mcl[index], 'grad', len(grad), grad[index], 'add', len(add), add[index])\n",
        "  if len(mc) > (index+1):\n",
        "    break\n",
        "\n"
      ],
      "metadata": {
        "id": "26k1jX71Ux6s",
        "outputId": "2f521d37-5b8f-4252-c75c-8f72d17b6e54",
        "colab": {
          "base_uri": "https://localhost:8080/"
        }
      },
      "id": "26k1jX71Ux6s",
      "execution_count": null,
      "outputs": [
        {
          "output_type": "stream",
          "name": "stdout",
          "text": [
            "0 mc 1  mcl 1  grad 1  add 1 60 E Delaware Pl, Chicago, IL 60611\n",
            "1 mc 2  mcl 2  grad 2  add 2 901 Southwind Rd, Springfield, IL 62703\n",
            "2 mc 3  mcl 3  grad 3  add 3 4944 95th St, Oak Lawn, IL 60435\n",
            "3 mc 4  mcl 4  grad 4  add 4 222 N Canal St, Chicago, IL 60606\n",
            "4 mc 5  mcl 5  grad 5  add 5 1 E Erie St, Chicago, IL 60611\n",
            "5 mc 6 ['Midwestern Univ Chicago Coll of Osteopathic Med'] mcl 6 ['Rush Med Coll of Rush Univ Med Ctr', 'Loyola Univ of Chicago Stritch Sch of Med', 'Kansas City Univ of Med and Biosciences Coll of Osteopathic Med'] grad 6 ['Univ of Chicago Div of the Biological Sciences Pritzker Sch of Med'] add 6 5101 S Willow Springs Rd, LaGrange, IL 60525\n",
            "6 mc 7 ['Univ of Illinois Coll of Med', 'Loyola Univ of Chicago Stritch Sch of Med', 'Midwestern Univ Chicago Coll of Osteopathic Med'] mcl 7 ['Midwestern Univ Arizona Coll of Osteopathic Med', 'Rush Med Coll of Rush Univ Med Ctr', 'Lincoln Memorial Univ DeBusk Coll of Osteopathic Med'] grad 7 ['Univ of Chicago Div of the Biological Sciences Pritzker Sch of Med'] add 7 4440 W 95th St, Oak Lawn, IL 60453-4213\n",
            "7 mc 8  mcl 8 Rush Med Coll of Rush Univ Med Ctr grad 8  add 8 3815 Highland Av, Downers Grove, IL 60515\n",
            "8 mc 9  mcl 9  grad 9  add 9 3075 Highland Pkwy, Downers Grove, IL 60515\n",
            "9 mc 10 ['Univ of Illinois Coll of Med', 'Midwestern Univ Chicago Coll of Osteopathic Med'] mcl 10 ['Midwestern Univ Arizona Coll of Osteopathic Med', 'Rush Med Coll of Rush Univ Med Ctr', 'Chicago Med Sch at Rosalind Franklin Univ of Med & Science', 'Lincoln Memorial Univ DeBusk Coll of Osteopathic Med'] grad 10 ['Univ of Chicago Div of the Biological Sciences Pritzker Sch of Med'] add 10 836 W Wellington Ave, Chicago, IL 60657-5193\n",
            "10 mc 11 ['Univ of Illinois Coll of Med', 'Midwestern Univ Chicago Coll of Osteopathic Med'] mcl 11 ['Midwestern Univ Arizona Coll of Osteopathic Med', 'Loyola Univ of Chicago Stritch Sch of Med', 'Lincoln Memorial Univ DeBusk Coll of Osteopathic Med'] grad 11 ['Rush Med Coll of Rush Univ Med Ctr', 'Univ of Chicago Div of the Biological Sciences Pritzker Sch of Med'] add 11 1775 W Dempster St, Park Ridge, IL 60068-1174\n",
            "11 mc 12  mcl 12  grad 12  add 12 4550 N Winchester Ave, Chicago, IL 60640-5205\n",
            "12 mc 13  mcl 13  grad 13  add 13 1425 N Randall Rd, Elgin, IL 60123\n",
            "13 mc 14  mcl 14  grad 14  add 14 17800 Kedzie Ave, Hazel Crest, IL 60429\n",
            "14 mc 15  mcl 15  grad 15  add 15 3700 203rd St, Olympia Fields, IL 60461\n",
            "15 mc 16  mcl 16 Univ of Illinois Coll of Med grad 16  add 16 800 Biesterfield Rd, Elk Grove Village, IL 60007\n",
            "16 mc 17 Southern Illinois Univ Sch of Med mcl 17  grad 17  add 17 1 Memorial Dr, Alton, IL 62002\n",
            "17 mc 18 ['Midwestern Univ Chicago Coll of Osteopathic Med'] mcl 18 ['Midwestern Univ Arizona Coll of Osteopathic Med', 'Loma Linda Univ Sch of Med', 'Rush Med Coll of Rush Univ Med Ctr', 'Loyola Univ of Chicago Stritch Sch of Med', 'Kansas City Univ of Med and Biosciences Coll of Osteopathic Med'] grad 18 [] add 18 120 N Oak St, Hinsdale, IL 60521-3829\n",
            "18 mc 19 ['Chicago Med Sch at Rosalind Franklin Univ of Med & Science'] mcl 19 ['Loyola Univ of Chicago Stritch Sch of Med'] grad 19 [] add 19 2233 W Division St, Chicago, IL 60622\n",
            "19 mc 20  mcl 20 ['Loyola Univ of Chicago Stritch Sch of Med'] grad 20 ['Rush Med Coll of Rush Univ Med Ctr'] add 20 1555 Barrington Rd, Hoffman Estates, IL 60194\n",
            "20 mc 21 ['Univ of Illinois Coll of Med'] mcl 21 ['Midwestern Univ Arizona Coll of Osteopathic Med', 'Loyola Univ of Chicago Stritch Sch of Med'] grad 21 ['Univ of Chicago Div of the Biological Sciences Pritzker Sch of Med'] add 21 2900 N Lake Shore Dr, Chicago, IL 60657\n",
            "21 mc 22  mcl 22  grad 22  add 22 333 N Madison St, Joliet, IL 60435\n",
            "22 mc 23  mcl 23  grad 23  add 23 500 W Court St, Kankakee, IL 60901\n",
            "23 mc 24 ['Northwestern Univ Feinberg Sch of Med', 'Loyola Univ of Chicago Stritch Sch of Med'] mcl 24 ['Univ of Washington Sch of Med'] grad 24 ['Rush Med Coll of Rush Univ Med Ctr', 'Univ of Chicago Div of the Biological Sciences Pritzker Sch of Med', 'Univ of Illinois Coll of Med', 'Southern Illinois Univ Sch of Med'] add 24 225 E Chicago Ave, Chicago, IL 60611\n",
            "24 mc 25  mcl 25  grad 25  add 25 21020 Kostner Ave, Matteson, IL 60443\n",
            "25 mc 26  mcl 26  grad 26  add 26 19900 Governors Dr, Olympia Fields, IL 60461\n",
            "26 mc 27  mcl 27  grad 27  add 27 7329 W 63rd St, Summit, IL 60501\n",
            "27 mc 28  mcl 28  grad 28  add 28 4600 Frontage Rd, Hillside, IL 60162\n",
            "28 mc 29  mcl 29  grad 29  add 29 200 S Wacker Dr, Chicago, IL 60606\n",
            "29 mc 30  mcl 30  grad 30  add 30 25 E Washington St, Chicago, IL 60602\n",
            "30 mc 31  mcl 31  grad 31  add 31 129 W Rand Rd, Arlington Heights, IL 60004\n",
            "31 mc 32  mcl 32  grad 32  add 32 19990 Governors Hwy, Olympia Fields, IL 60461\n",
            "32 mc 33  mcl 33  grad 33  add 33 1245 S Wood St, Chicago, IL 60608\n",
            "33 mc 34 ['Southern Illinois Univ Sch of Med'] mcl 34 ['West Virginia Sch of Osteopathic Med'] grad 34 [] add 34 Broadway at 11th St, Quincy, IL 62305-7005\n",
            "34 mc 35  mcl 35  grad 35  add 35 357 E Chicago Ave, Chicago, IL 60611\n",
            "35 mc 36  mcl 36  grad 36  add 36 912 N Elmwood, Peoria, IL 61625\n",
            "36 mc 37  mcl 37  grad 37  add 37 3400 S Indiana Ave, Chicago, IL 60616\n",
            "37 mc 38  mcl 38  grad 38  add 38 3700 203rd St, Olympia Fields, IL 60461\n",
            "38 mc 39  mcl 39  grad 39  add 39 811 S Lytle, Chicago, IL 60607\n",
            "39 mc 40  mcl 40  grad 40  add 40 25 N Winfield Rd, Winfield, IL 60190\n",
            "40 mc 41  mcl 41  grad 41  add 41 4340 Morsay Dr, Rockford, IL 61107\n",
            "41 mc 42 ['Univ of Illinois Coll of Med', 'Chicago Med Sch at Rosalind Franklin Univ of Med & Science'] mcl 42  grad 42 ['Rush Med Coll of Rush Univ Med Ctr'] add 42 3001 Green Bay Rd, North Chicago, IL 60064\n",
            "42 mc 43  mcl 43 ['Midwestern Univ Arizona Coll of Osteopathic Med', 'West Virginia Sch of Osteopathic Med'] grad 43 ['Pacific Northwest Univ of Health Sciences Coll of Osteopathic Med'] add 43 1304 Franklin Ave, Normal, IL 61761\n",
            "43 mc 44 ['Univ of Illinois Coll of Med', 'Carle Illinois Coll of Med'] mcl 44 ['Midwestern Univ Chicago Coll of Osteopathic Med', 'Kansas City Univ of Med and Biosciences Coll of Osteopathic Med'] grad 44 [] add 44 611 W Park St, Urbana, IL 61801-2595\n",
            "44 mc 45  mcl 45 Kansas City Univ of Med and Biosciences Coll of Osteopathic Med grad 45  add 45 701 E Orange St, Hoopeston, IL 60942\n",
            "45 mc 46  mcl 46  grad 46  add 46 2913 N Commonwealth Ave, Chicago, IL 60657\n",
            "46 mc 47  mcl 47 Univ of Illinois Coll of Med grad 47  add 47 830 W Diversey, Chicago, IL 60614\n",
            "47 mc 48  mcl 48  grad 48  add 48 1615 N Convent St, Bourbonnais, IL 60914\n",
            "48 mc 49  mcl 49  grad 49  add 49 980 N Michigan Ave, Chicago, IL 60611\n",
            "49 mc 50  mcl 50  grad 50  add 50 1401 N California Ave, Chicago, IL 60622\n",
            "50 mc 51  mcl 51  grad 51  add 51 5401 N Knoxville, Peoria, IL 61614\n",
            "51 mc 52  mcl 52  grad 52  add 52 1315 Lehmen Dr, Chester, IL 62233-0031\n"
          ]
        }
      ]
    },
    {
      "cell_type": "code",
      "source": [
        "print(len(mc),len(mcl),len(grad),len(add))\n",
        "hospitals['Affiliation_Major'] = mc\n",
        "hospitals['Affiliation_Limited'] = mcl\n",
        "hospitals['Affiliation_Graduate'] = grad\n",
        "hospitals['Medical_Center_Address'] = add"
      ],
      "metadata": {
        "id": "OR0A_4KaVKje"
      },
      "id": "OR0A_4KaVKje",
      "execution_count": null,
      "outputs": []
    },
    {
      "cell_type": "code",
      "source": [
        "hospitals.to_csv('Kentucky_crosswalk.csv')"
      ],
      "metadata": {
        "id": "56FcOVrwwWLi"
      },
      "id": "56FcOVrwwWLi",
      "execution_count": null,
      "outputs": []
    }
  ],
  "metadata": {
    "kernelspec": {
      "display_name": "Python 3 (ipykernel)",
      "language": "python",
      "name": "python3"
    },
    "language_info": {
      "codemirror_mode": {
        "name": "ipython",
        "version": 3
      },
      "file_extension": ".py",
      "mimetype": "text/x-python",
      "name": "python",
      "nbconvert_exporter": "python",
      "pygments_lexer": "ipython3",
      "version": "3.9.7"
    },
    "colab": {
      "provenance": []
    }
  },
  "nbformat": 4,
  "nbformat_minor": 5
}