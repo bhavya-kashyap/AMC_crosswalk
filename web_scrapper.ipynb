{
  "cells": [
    {
      "cell_type": "code",
      "source": [
        "!apt update\n",
        "!apt install chromium-chromedriver\n",
        "!pip install selenium\n",
        "!pip install bs4"
      ],
      "metadata": {
        "id": "Cgh84PJPKAeP"
      },
      "id": "Cgh84PJPKAeP",
      "execution_count": null,
      "outputs": []
    },
    {
      "cell_type": "code",
      "execution_count": null,
      "id": "da829f11",
      "metadata": {
        "id": "da829f11"
      },
      "outputs": [],
      "source": [
        "from selenium import webdriver\n",
        "from selenium.webdriver.chrome.options import Options\n",
        "from selenium.webdriver.common.by import By\n",
        "from bs4 import BeautifulSoup\n",
        "import time"
      ]
    },
    {
      "cell_type": "code",
      "source": [
        "import json\n",
        "import numpy as np\n",
        "import pandas as pd         \n",
        "import ctypes"
      ],
      "metadata": {
        "id": "d4y6X6wfPXFr"
      },
      "id": "d4y6X6wfPXFr",
      "execution_count": null,
      "outputs": []
    },
    {
      "cell_type": "code",
      "source": [
        "hospitals = pd.read_csv('https://raw.githubusercontent.com/bhavya-kashyap/web-scrapping/main/GA_Hospitals.csv')\n",
        "hospitals = hospitals.fillna('')\n",
        "hospitals['Med_center'] = hospitals['Med_center'] + \" \" + hospitals['Unnamed: 2']\n",
        "hospitals = hospitals.drop('Unnamed: 2', axis=1)\n",
        "\n",
        "baseurl = 'https://freida.ama-assn.org/institution/'\n",
        "URLS = []\n",
        "for index, i in hospitals.iterrows():\n",
        "  URLS.append(str(baseurl + str(i['H.No.'])))\n",
        "hospitals['URLS'] = URLS\n",
        "\n",
        "hospitals.head()"
      ],
      "metadata": {
        "id": "myu67DvrpDA-"
      },
      "id": "myu67DvrpDA-",
      "execution_count": null,
      "outputs": []
    },
    {
      "cell_type": "code",
      "execution_count": null,
      "id": "b2484332",
      "metadata": {
        "id": "b2484332"
      },
      "outputs": [],
      "source": [
        "def driversetup():\n",
        "    options = webdriver.ChromeOptions()\n",
        "    #run Selenium in headless mode\n",
        "    options.add_argument('--headless')\n",
        "    options.add_argument('--no-sandbox')\n",
        "    options.add_argument(\"enable-automation\")\n",
        "    #overcome limited resource problems\n",
        "    options.add_argument('--disable-dev-shm-usage')\n",
        "    options.add_argument(\"lang=en\")\n",
        "    #open Browser in maximized mode\n",
        "    options.add_argument(\"start-maximized\")\n",
        "    #disable infobars\n",
        "    options.add_argument(\"disable-infobars\")\n",
        "    #disable extension\n",
        "    options.add_argument(\"--disable-browser-side-navigation\")\n",
        "    options.add_argument(\"--disable-gpu\")\n",
        "    options.add_argument(\"--disable-extensions\")\n",
        "    options.add_argument(\"--incognito\")\n",
        "    options.add_argument(\"--disable-blink-features=AutomationControlled\")\n",
        "    \n",
        "    driver = webdriver.Chrome(options=options)\n",
        "\n",
        "    driver.execute_script(\"Object.defineProperty(navigator, 'webdriver', {get: () => undefined});\")\n",
        "\n",
        "    return driver\n",
        "\n",
        "def pagesource(url, driver):\n",
        "    driver = driver\n",
        "    driver.get(url)\n",
        "    time.sleep(10)\n",
        "    soup = BeautifulSoup(driver.page_source)\n",
        "    #driver.close()\n",
        "    return soup\n",
        "\n"
      ]
    },
    {
      "cell_type": "code",
      "source": [
        "# d = driversetup()\n",
        "# relationship = []\n",
        "# for index, i in hospitals.iterrows():\n",
        "#   url = i['URLS']\n",
        "#   s = pagesource(url, d)\n",
        "#   med_school = list(s.findAll('small', class_=\"bold\"))\n",
        "#   print(i.Med_center, index, relationship, len(med_school))\n",
        "#   for i in range(len(med_school)):\n",
        "#     a = list(s.findAll('div', class_=\"medical-schools__school ng-star-inserted\"))\n",
        "    \n",
        "#     for i in range(len(a)):\n",
        "#       rel = a[i].findAll('div', class_='')[0].text\n",
        "#       if rel not in relationship:\n",
        "#         print(med_school[i].text, rel)\n",
        "#         relationship.append(rel)\n",
        "# relationship"
      ],
      "metadata": {
        "id": "08mgmMrM6tWg"
      },
      "id": "08mgmMrM6tWg",
      "execution_count": null,
      "outputs": []
    },
    {
      "cell_type": "code",
      "source": [
        "mc = []\n",
        "grad = []\n",
        "mcl = []\n",
        "add = []\n",
        "d = driversetup()\n",
        "for index, i in hospitals.iterrows():\n",
        "  url = i['URLS']\n",
        "  #url = 'https://freida.ama-assn.org/institution/120119'\n",
        "  s = pagesource(url, d)\n",
        "  med_school = list(s.findAll('small', class_=\"bold\"))\n",
        "  address = list(s.findAll('div', class_=\"details__address ng-star-inserted\")) \n",
        "  if len(med_school) == 0:\n",
        "    mc.append(\"\")\n",
        "    mcl.append(\"\")\n",
        "    grad.append(\"\")\n",
        "  elif len(med_school) == 1:\n",
        "    a = list(s.findAll('div', class_=\"medical-schools__school ng-star-inserted\"))\n",
        "    name = a[0].findAll('small', class_='bold')[0].text\n",
        "    relationship = a[0].findAll('div', class_='')[0].text\n",
        "    print(name, relationship)\n",
        "    if 'Limited' in relationship:\n",
        "      mcl.append(name)\n",
        "      mc.append(\"\")\n",
        "      grad.append(\"\")\n",
        "    elif 'Major' in relationship:\n",
        "      mc.append(name)\n",
        "      mcl.append(\"\")\n",
        "      grad.append(\"\")\n",
        "    elif 'Graduate' in relationship:\n",
        "      mc.append(\"\")\n",
        "      mcl.append(\"\")\n",
        "      grad.append(name)\n",
        "    else:\n",
        "      print(\"NEW RELATIONSHIP FOUND : \", name)\n",
        "      break\n",
        "  elif len(med_school) > 1:   \n",
        "      major = []\n",
        "      limited = []\n",
        "      graduate = []\n",
        "      a = list(s.findAll('div', class_=\"medical-schools__school ng-star-inserted\"))\n",
        "      for i in range(len(a)):\n",
        "        name = a[i].findAll('small', class_='bold')[0].text\n",
        "        relationship = a[i].findAll('div', class_='')[0].text\n",
        "        print(i, name, relationship)\n",
        "        if 'Limited' in relationship:\n",
        "          limited.append(name)\n",
        "        elif 'Graduate' in relationship:\n",
        "          graduate.append(name)\n",
        "        elif 'Major' in relationship:\n",
        "          major.append(name)\n",
        "        else:\n",
        "          print(\"New relationship found\")\n",
        "          break \n",
        "      if major == []:\n",
        "        major = ''\n",
        "      if limited == []:\n",
        "        limited = ''\n",
        "      if grad == []:\n",
        "        grad = ''\n",
        "      mc.append(major)\n",
        "      mcl.append(limited)\n",
        "      grad.append(graduate)\n",
        "  if len(address) != 0:\n",
        "    address[0].br.string = ', '\n",
        "    add.append(address[0].text)\n",
        "  else:\n",
        "    add.append(\"\")\n",
        "  print(index, 'mc', len(mc), mc[index], 'mcl', len(mcl), mcl[index], 'grad', len(grad), grad[index], 'add', len(add), add[index])\n",
        "  if len(mc) > (index+1):\n",
        "    break\n",
        "\n"
      ],
      "metadata": {
        "id": "26k1jX71Ux6s"
      },
      "id": "26k1jX71Ux6s",
      "execution_count": null,
      "outputs": []
    },
    {
      "cell_type": "code",
      "source": [
        "# print(len(mc),len(mcl),len(grad),len(add))\n",
        "# hospitals['Affiliation_Major'] = mc\n",
        "# hospitals['Affiliation_Limited'] = mcl\n",
        "# hospitals['Affiliation_Graduate'] = grad\n",
        "# hospitals['Medical_Center_Address'] = add\n",
        "\n",
        "# hospitals.iloc[[40]]\n",
        "\n",
        "hospitals.to_csv('GA_crosswalk.csv')"
      ],
      "metadata": {
        "id": "OR0A_4KaVKje"
      },
      "id": "OR0A_4KaVKje",
      "execution_count": null,
      "outputs": []
    }
  ],
  "metadata": {
    "kernelspec": {
      "display_name": "Python 3 (ipykernel)",
      "language": "python",
      "name": "python3"
    },
    "language_info": {
      "codemirror_mode": {
        "name": "ipython",
        "version": 3
      },
      "file_extension": ".py",
      "mimetype": "text/x-python",
      "name": "python",
      "nbconvert_exporter": "python",
      "pygments_lexer": "ipython3",
      "version": "3.9.7"
    },
    "colab": {
      "provenance": []
    }
  },
  "nbformat": 4,
  "nbformat_minor": 5
}